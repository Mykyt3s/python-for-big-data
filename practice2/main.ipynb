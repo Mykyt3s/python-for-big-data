{
 "cells": [
  {
   "cell_type": "markdown",
   "metadata": {
    "id": "p9wwt0LZzNvn"
   },
   "source": [
    "# I. Змінні та памʼять."
   ]
  },
  {
   "cell_type": "markdown",
   "metadata": {
    "id": "HTJrrm95xSV9"
   },
   "source": [
    "1. Створити змінні, що посилаються на два цілих числа, що однакові за значенням, де значення належить проміжку від -5 до 256. Перевірте, чи будуть ці змінні рівні тільки за значенням або ж ще будуть посилатися на один і той самий обʼєкт в памʼяті? Наведіть код та дайте текстову відповідь нижче."
   ]
  },
  {
   "cell_type": "code",
   "execution_count": 1,
   "metadata": {
    "id": "TATni2vzayjG",
    "ExecuteTime": {
     "end_time": "2024-02-23T21:05:51.201880600Z",
     "start_time": "2024-02-23T21:05:51.118403800Z"
    }
   },
   "outputs": [
    {
     "name": "stdout",
     "output_type": "stream",
     "text": [
      "True\n",
      "True\n"
     ]
    }
   ],
   "source": [
    "a = 10\n",
    "b = 10\n",
    "\n",
    "print(a == b)\n",
    "\n",
    "print(id(a) == id(b)) "
   ]
  },
  {
   "cell_type": "markdown",
   "metadata": {
    "id": "ISORzt6M3vAt"
   },
   "source": [
    "2. За допомогою якої функції можна перевірити належність змінної до вказаного типу даних (напр. чи змінна True посилається на значення булевого та цілочисленого типу)?"
   ]
  },
  {
   "cell_type": "code",
   "execution_count": 2,
   "metadata": {
    "id": "9vL9CFaMbfyo",
    "ExecuteTime": {
     "end_time": "2024-02-23T21:05:51.201880600Z",
     "start_time": "2024-02-23T21:05:51.124251800Z"
    }
   },
   "outputs": [
    {
     "name": "stdout",
     "output_type": "stream",
     "text": [
      "True\n",
      "False\n",
      "False\n"
     ]
    }
   ],
   "source": [
    "param = 4\n",
    "print(isinstance(param, int))\n",
    "print(isinstance(param, float))\n",
    "print(isinstance(param, bool))"
   ]
  },
  {
   "cell_type": "markdown",
   "source": [
    "ми використали функцію ```isinstace```"
   ],
   "metadata": {
    "collapsed": false
   }
  },
  {
   "cell_type": "markdown",
   "metadata": {
    "id": "tRxugKAxwYLw"
   },
   "source": [
    "# II. Цілі числа та числа з рухомою комою"
   ]
  },
  {
   "cell_type": "markdown",
   "metadata": {
    "id": "NLHkgd5Gybc8"
   },
   "source": [
    "3. Створити дві змінні, що посилаються на будь-які ціле число та число з рухомою комою та продемонструвати такі арифметичні операції: додавання, віднімання, ділення, множення, ділення без залишку, ділення по модулю, приведення до ступеню. Всі результати операцій вивести на екран."
   ]
  },
  {
   "cell_type": "code",
   "execution_count": 3,
   "metadata": {
    "id": "nb8u_3pjb2cA",
    "ExecuteTime": {
     "end_time": "2024-02-23T21:05:51.202383900Z",
     "start_time": "2024-02-23T21:05:51.143290300Z"
    }
   },
   "outputs": [
    {
     "name": "stdout",
     "output_type": "stream",
     "text": [
      "63.64\n",
      "23.64\n",
      "872.8\n",
      "2.182\n",
      "2.0\n",
      "3.6400000000000006\n",
      "6.276172018838645e+32\n"
     ]
    }
   ],
   "source": [
    "param_a = 43.64\n",
    "param_b = 20\n",
    "\n",
    "print(param_a + param_b)\n",
    "print(param_a - param_b)\n",
    "print(param_a * param_b)\n",
    "print(param_a / param_b)\n",
    "print(param_a // param_b)\n",
    "print(param_a % param_b)\n",
    "print(param_a ** param_b)"
   ]
  },
  {
   "cell_type": "markdown",
   "metadata": {
    "id": "1kBClKgPzZnC"
   },
   "source": [
    "4. Використовуючи змінні з вправи 3, продемонструйте механізм явного перетворення типів, де числа з рухомою комою перетворюються на цілі числа. Також визначте змінну, що посилається на значення булевого типу і спробуйте явно привести її до цілого числа."
   ]
  },
  {
   "cell_type": "code",
   "execution_count": 4,
   "metadata": {
    "id": "TbqJbkeUcKsD",
    "ExecuteTime": {
     "end_time": "2024-02-23T21:05:51.202383900Z",
     "start_time": "2024-02-23T21:05:51.149456600Z"
    }
   },
   "outputs": [
    {
     "name": "stdout",
     "output_type": "stream",
     "text": [
      "int param_a 43\n",
      "int param_c 1\n"
     ]
    }
   ],
   "source": [
    "int_param_a = int(param_a)\n",
    "print(\"int param_a {}\".format(int_param_a))\n",
    "\n",
    "param_c = True\n",
    "bool_param_c = int(param_c)\n",
    "print(\"int param_c {}\".format(bool_param_c))"
   ]
  },
  {
   "cell_type": "markdown",
   "metadata": {
    "id": "EVJ7AflwxrZi"
   },
   "source": [
    "# IІІ. Рядки (String)."
   ]
  },
  {
   "cell_type": "markdown",
   "metadata": {
    "id": "_s5ECzz9zE61"
   },
   "source": [
    "5. Створити пустий рядок двома різними способами."
   ]
  },
  {
   "cell_type": "code",
   "execution_count": 5,
   "metadata": {
    "id": "fkZJHu9Scvc-",
    "ExecuteTime": {
     "end_time": "2024-02-23T21:05:51.202383900Z",
     "start_time": "2024-02-23T21:05:51.151966900Z"
    }
   },
   "outputs": [
    {
     "name": "stdout",
     "output_type": "stream",
     "text": [
      "True\n"
     ]
    }
   ],
   "source": [
    "string_a = \"123\"\n",
    "string_b = str(123)\n",
    "\n",
    "print(string_a == string_b)"
   ]
  },
  {
   "cell_type": "markdown",
   "metadata": {
    "id": "4Bdn9J3MzLf_"
   },
   "source": [
    "6. Створити рядок з апострофом. Зробити його сирим. Вивести обидва рядка на екран."
   ]
  },
  {
   "cell_type": "code",
   "execution_count": 6,
   "metadata": {
    "id": "ivji_hsmc0GH",
    "ExecuteTime": {
     "end_time": "2024-02-23T21:05:51.202383900Z",
     "start_time": "2024-02-23T21:05:51.157085Z"
    }
   },
   "outputs": [
    {
     "name": "stdout",
     "output_type": "stream",
     "text": [
      "string  '\n",
      "string raw  '\n"
     ]
    }
   ],
   "source": [
    "string_c = \"'\"\n",
    "string_c_raw = r\"'\"\n",
    "print(\"string \", string_c)\n",
    "print(\"string raw \", string_c_raw)"
   ]
  },
  {
   "cell_type": "markdown",
   "metadata": {
    "id": "bg_d8wM4z8dS"
   },
   "source": [
    "7. Створити змінну, що буде посилатися на Ваше прізвище латинкою. Створити форматований рядок, який буде мати вигляд \"My surname is ______\", де на місці нижніх підкреслень буде Ваше прізвище зі змінної."
   ]
  },
  {
   "cell_type": "code",
   "execution_count": 7,
   "metadata": {
    "id": "kuxFgpWndACq",
    "ExecuteTime": {
     "end_time": "2024-02-23T21:05:51.202383900Z",
     "start_time": "2024-02-23T21:05:51.159594500Z"
    }
   },
   "outputs": [
    {
     "name": "stdout",
     "output_type": "stream",
     "text": [
      "My surname is Fediushyn\n"
     ]
    }
   ],
   "source": [
    "last_name = \"Fediushyn\"\n",
    "format_string = f'My surname is {last_name}'\n",
    "print(format_string)"
   ]
  },
  {
   "cell_type": "markdown",
   "metadata": {
    "id": "1Nc6RqvQ0hxU"
   },
   "source": [
    "8. Маючи рядок \"My dog is crazy.\" перетворити його на список [\"my\", \"dog\", \"is\", \"crazy\"]"
   ]
  },
  {
   "cell_type": "code",
   "execution_count": 8,
   "metadata": {
    "id": "w1Ya4RqedUhw",
    "ExecuteTime": {
     "end_time": "2024-02-23T21:05:51.202383900Z",
     "start_time": "2024-02-23T21:05:51.162999500Z"
    }
   },
   "outputs": [
    {
     "data": {
      "text/plain": "['my', 'dog', 'is', 'crazy']"
     },
     "execution_count": 8,
     "metadata": {},
     "output_type": "execute_result"
    }
   ],
   "source": [
    "input_string = \"My dog is crazy.\"\n",
    "output_list = [word.strip('.').lower() for word in input_string.split()]\n",
    "output_list"
   ]
  },
  {
   "cell_type": "markdown",
   "metadata": {
    "id": "GYVqN9uP1D4n"
   },
   "source": [
    "# IV. Робота зі списками."
   ]
  },
  {
   "cell_type": "markdown",
   "metadata": {
    "id": "7-DeDunw2sO-"
   },
   "source": [
    "9. Створити список двома різними за синтаксисом способами. За допомогою вбудованої функції обчисліть довжину одного з них."
   ]
  },
  {
   "cell_type": "code",
   "execution_count": 9,
   "metadata": {
    "id": "zxg06Uuxdyoh",
    "ExecuteTime": {
     "end_time": "2024-02-23T21:05:51.202383900Z",
     "start_time": "2024-02-23T21:05:51.168870800Z"
    }
   },
   "outputs": [
    {
     "name": "stdout",
     "output_type": "stream",
     "text": [
      "['A', 'B', 'C', 'D', 'E'] 5\n",
      "['A', 'B', 'C', 'D', 'E'] 5\n"
     ]
    }
   ],
   "source": [
    "first_string = list(map(lambda x: chr(x), list(range(65, 70))))\n",
    "second_string = ['A', 'B', 'C', 'D', 'E']\n",
    "\n",
    "print(first_string, len(first_string))\n",
    "print(second_string, len(second_string))"
   ]
  },
  {
   "cell_type": "markdown",
   "metadata": {
    "id": "8vmGUTjL22gI"
   },
   "source": [
    "10. Створіть два списка та за допомогою спеціального методу додайте другий з них в якості останнього елемента першого."
   ]
  },
  {
   "cell_type": "code",
   "execution_count": 10,
   "metadata": {
    "id": "uHtjWYw7d7hm",
    "ExecuteTime": {
     "end_time": "2024-02-23T21:05:51.203388400Z",
     "start_time": "2024-02-23T21:05:51.173658800Z"
    }
   },
   "outputs": [
    {
     "name": "stdout",
     "output_type": "stream",
     "text": [
      "['A', 'B', 'C', 'D', 'E', ['A', 'B', 'C', 'D', 'E']]\n"
     ]
    }
   ],
   "source": [
    "first_string = list(map(lambda x: chr(x), list(range(65, 70))))\n",
    "second_string = ['A', 'B', 'C', 'D', 'E']\n",
    "\n",
    "first_string.append(second_string)\n",
    "print(first_string)"
   ]
  },
  {
   "cell_type": "markdown",
   "metadata": {
    "id": "JC3BkD-67_--"
   },
   "source": [
    "11. Створіть список, де елементами цього списку також є списки. Отримай перший елемент з останнього рядка та виведи значення на екран."
   ]
  },
  {
   "cell_type": "code",
   "execution_count": 11,
   "metadata": {
    "id": "Kz2jZHsGeLlz",
    "ExecuteTime": {
     "end_time": "2024-02-23T21:05:51.203388400Z",
     "start_time": "2024-02-23T21:05:51.177696500Z"
    }
   },
   "outputs": [
    {
     "name": "stdout",
     "output_type": "stream",
     "text": [
      "[[3, 4, 5, 6], [4, 5, 6, 7], [5, 6, 7, 8]]\n",
      "5\n"
     ]
    }
   ],
   "source": [
    "matrix = [list(range(i + 3, i + 7)) for i in range(3)]\n",
    "print(matrix)\n",
    "print(matrix[-1][0])"
   ]
  },
  {
   "cell_type": "markdown",
   "metadata": {
    "id": "JA47PKTv8zFK"
   },
   "source": [
    "12. Створіть список з десяти елементів різного типу. Отримайте всі елементи, окрім двох перших та двох останніх та збережіть їх в новій змінній."
   ]
  },
  {
   "cell_type": "code",
   "execution_count": 12,
   "metadata": {
    "id": "_rHdUR-ueP4-",
    "ExecuteTime": {
     "end_time": "2024-02-23T21:05:51.203388400Z",
     "start_time": "2024-02-23T21:05:51.181781300Z"
    }
   },
   "outputs": [
    {
     "data": {
      "text/plain": "[[2, 7, 9, 1],\n None,\n b'byte string',\n {'name': 'lol', 'surname': 'chich'},\n 'chinazes',\n (34.4+34.5j)]"
     },
     "execution_count": 12,
     "metadata": {},
     "output_type": "execute_result"
    }
   ],
   "source": [
    "type_zoo = [(6, 8, 7), 323.65, [2, 7, 9, 1], None, b'byte string', {'name': 'lol', 'surname': 'chich'}, 'chinazes', (34.4+34.5j), 45, True]\n",
    "type_zoo[2:-2]"
   ]
  },
  {
   "cell_type": "markdown",
   "metadata": {
    "id": "pCjR1dJb1Qbi"
   },
   "source": [
    "# V. Робота з кортежами."
   ]
  },
  {
   "cell_type": "markdown",
   "metadata": {
    "id": "fAZCxAX06R_k"
   },
   "source": [
    "14. Створити кортеж з один елементом."
   ]
  },
  {
   "cell_type": "code",
   "execution_count": 13,
   "metadata": {
    "id": "H7d82WkQev3e",
    "ExecuteTime": {
     "end_time": "2024-02-23T21:05:51.203388400Z",
     "start_time": "2024-02-23T21:05:51.186881600Z"
    }
   },
   "outputs": [
    {
     "data": {
      "text/plain": "True"
     },
     "execution_count": 13,
     "metadata": {},
     "output_type": "execute_result"
    }
   ],
   "source": [
    "tuple1 = (234,)\n",
    "isinstance(tuple1, tuple)"
   ]
  },
  {
   "cell_type": "markdown",
   "metadata": {
    "id": "8LCtYcmI6w1M"
   },
   "source": [
    "15. Порівняйте список та кортеж. Назвіть схожості та відмінності, випадки використання."
   ]
  },
  {
   "cell_type": "markdown",
   "metadata": {
    "id": "fUsN1Hnue0C6"
   },
   "source": [
    "Схожі елементи:  \n",
    "- І списки, і кортежі використовуються для зберігання колекцій даних\n",
    "- Елементи в списках і кортежах мають порядок, доступ до них можна отримати за індексом\n",
    "- І списки, і кортежі підтримують зрізи для отримання підмножини елементів\n",
    "\n",
    "Різниця:  \n",
    "- Змінний, його елементи можна додавати, видаляти, змінювати\n",
    "- Незмінний, після створення не можна змінювати"
   ]
  },
  {
   "cell_type": "markdown",
   "metadata": {
    "id": "m0xrwFijAmDD"
   },
   "source": [
    "16. Створіть кортеж з 11ти елементів чисел з рухомою комою та отримайте кожен парний за індексом елемент в зворотньому порядку. Наприклад, маючи (1.2, 2.3, 3.3, 4.3, 5.3, 6.3, 7.3, 8.3, 9.3, 0.3), отримати (0.3, 8.3, 6.3, 4.3, 2.3). Результат збережіть в нову змінну та виведіть на екран."
   ]
  },
  {
   "cell_type": "code",
   "execution_count": 14,
   "metadata": {
    "id": "p-5DAH6XfAGA",
    "ExecuteTime": {
     "end_time": "2024-02-23T21:05:51.203388400Z",
     "start_time": "2024-02-23T21:05:51.191673100Z"
    }
   },
   "outputs": [
    {
     "data": {
      "text/plain": "(12.123, 8.1, 23.12, -23.56)"
     },
     "execution_count": 14,
     "metadata": {},
     "output_type": "execute_result"
    }
   ],
   "source": [
    "simple_tuple = (12.123, 54.12, 8.1, 43.09, 23.12, 543.6, -23.56)\n",
    "even_tuple = simple_tuple[::2]\n",
    "even_tuple"
   ]
  },
  {
   "cell_type": "markdown",
   "metadata": {
    "id": "rW_I9dt3x6cW"
   },
   "source": [
    "# VI. Множини (Set)."
   ]
  },
  {
   "cell_type": "markdown",
   "metadata": {
    "id": "zNjRLHLw1Bgg"
   },
   "source": [
    "17. Створити множину без елементів. Після цого за допомогою методу додайте кілька різних елементів до множини. Чи множини є змінним типом даних?"
   ]
  },
  {
   "cell_type": "code",
   "execution_count": 15,
   "metadata": {
    "id": "KOv7zc2Kfo4N",
    "ExecuteTime": {
     "end_time": "2024-02-23T21:05:51.203388400Z",
     "start_time": "2024-02-23T21:05:51.195567500Z"
    }
   },
   "outputs": [
    {
     "data": {
      "text/plain": "{(1, 2, 3), 1, 'abc'}"
     },
     "execution_count": 15,
     "metadata": {},
     "output_type": "execute_result"
    }
   ],
   "source": [
    "simple_set = set()\n",
    "simple_set.add(1)\n",
    "simple_set.add(\"abc\")\n",
    "simple_set.add((1, 2, 3))\n",
    "simple_set"
   ]
  },
  {
   "cell_type": "markdown",
   "metadata": {
    "id": "vxS6dVYiftZQ"
   },
   "source": [
    "Так ```set()``` є змінним типом данних"
   ]
  },
  {
   "cell_type": "markdown",
   "metadata": {
    "id": "gHpT0Zw_1HEF"
   },
   "source": [
    "18. Створити множину, маючи список my_list = [1, 1, 2, 67, 67, 8, 9]. Пояснити, чому \"зникли\" деякі елементи."
   ]
  },
  {
   "cell_type": "code",
   "execution_count": 16,
   "metadata": {
    "id": "qCN4uvJ_fxmu",
    "ExecuteTime": {
     "end_time": "2024-02-23T21:05:51.220161600Z",
     "start_time": "2024-02-23T21:05:51.200585300Z"
    }
   },
   "outputs": [
    {
     "data": {
      "text/plain": "{0, 1, 2, 3, 4}"
     },
     "execution_count": 16,
     "metadata": {},
     "output_type": "execute_result"
    }
   ],
   "source": [
    "some_list = [0, 0, 0, 1, 2, 3, 4, 4, 4, 4]\n",
    "no_duplicate_list = set(some_list)\n",
    "no_duplicate_list"
   ]
  },
  {
   "cell_type": "markdown",
   "metadata": {
    "id": "tFNc1e20fyny"
   },
   "source": [
    "елементи зникли, тому що множина складається виключно з унікальних елементів"
   ]
  },
  {
   "cell_type": "markdown",
   "metadata": {
    "id": "SRMkGizS1UwY"
   },
   "source": [
    "19. Створіть дві множини. Продемонстуйте над ними операції: обʼєднання, різниці, пересічі та симетричної різниці. Використовуйте методи, що не змінюють множини, а створюють нові."
   ]
  },
  {
   "cell_type": "code",
   "execution_count": 17,
   "metadata": {
    "id": "h0T-VuDnf3Ri",
    "ExecuteTime": {
     "end_time": "2024-02-23T21:05:51.220665600Z",
     "start_time": "2024-02-23T21:05:51.204892100Z"
    }
   },
   "outputs": [
    {
     "name": "stdout",
     "output_type": "stream",
     "text": [
      "union  {1, 2, 3, 8, 9, 10, 12, 13, 14}\n",
      "difference  {8, 9, 10}\n",
      "intersection  {1, 2, 3}\n",
      "symmetric difference  {8, 9, 10, 12, 13, 14}\n",
      "set_a:  {1, 2, 3, 8, 9, 10}\n",
      "set_b:  {1, 2, 3, 12, 13, 14}\n"
     ]
    }
   ],
   "source": [
    "set_a = {1, 2, 3, 8, 9, 10}\n",
    "set_b = {1, 2, 3, 12, 13, 14}\n",
    "\n",
    "\n",
    "print(\"union \", set_a.union(set_b))\n",
    "print(\"difference \", set_a.difference(set_b))\n",
    "print(\"intersection \", set_a.intersection(set_b))\n",
    "print(\"symmetric difference \", set_a.symmetric_difference(set_b))\n",
    "print(\"set_a: \", set_a)\n",
    "print(\"set_b: \", set_b)"
   ]
  },
  {
   "cell_type": "markdown",
   "metadata": {},
   "source": [
    "Наші множини не змінились"
   ]
  },
  {
   "cell_type": "markdown",
   "metadata": {
    "id": "kWc8gkzTx7Ea"
   },
   "source": [
    "# VII. Словники (Dictionary)."
   ]
  },
  {
   "cell_type": "markdown",
   "metadata": {
    "id": "i5FLwj-B2ybQ"
   },
   "source": [
    "20. Створіть пустий словник. До нього додайте чотири пари елементів такі, щоб їхні ключі були різних типів. Чи може список бути ключем? Чому?"
   ]
  },
  {
   "cell_type": "code",
   "execution_count": 18,
   "metadata": {
    "id": "hxgv3BzrgLAV",
    "ExecuteTime": {
     "end_time": "2024-02-23T21:05:51.220665600Z",
     "start_time": "2024-02-23T21:05:51.211872Z"
    }
   },
   "outputs": [],
   "source": [
    "simple_dict = dict()\n",
    "\n",
    "simple_dict[0] = \"int\"\n",
    "simple_dict[\"a\"] = \"string\"\n",
    "simple_dict[(1, 2, 3)] = \"tuple\"\n",
    "simple_dict[3.14] = \"float\""
   ]
  },
  {
   "cell_type": "code",
   "execution_count": 19,
   "metadata": {
    "ExecuteTime": {
     "end_time": "2024-02-23T21:05:51.221670900Z",
     "start_time": "2024-02-23T21:05:51.214882700Z"
    }
   },
   "outputs": [
    {
     "name": "stdout",
     "output_type": "stream",
     "text": [
      "we have catched TypeError\n"
     ]
    }
   ],
   "source": [
    "try:\n",
    "    simple_dict[[1, 2, 3]] = \"list\"\n",
    "except TypeError:\n",
    "    print(\"we have catched TypeError\")"
   ]
  },
  {
   "cell_type": "markdown",
   "metadata": {
    "id": "zwa7UVN-gR3m"
   },
   "source": [
    "Список незмінний тип даних, тому він не може бути ключем"
   ]
  },
  {
   "cell_type": "markdown",
   "metadata": {
    "id": "WM_pMlJsgoNf"
   },
   "source": [
    "21. Створіть словник, де значенням в одній з пар теж буде словник, який теж має вкладений словник. Виведіть на екран значення, що міститься в словнику, що знаходиться на найнижчому рівні ієрархії вкладеності (найбільш внутрішній)."
   ]
  },
  {
   "cell_type": "code",
   "execution_count": 20,
   "metadata": {
    "id": "60dlP7IHhAy4",
    "ExecuteTime": {
     "end_time": "2024-02-23T21:05:51.226700300Z",
     "start_time": "2024-02-23T21:05:51.218228Z"
    }
   },
   "outputs": [
    {
     "data": {
      "text/plain": "3"
     },
     "execution_count": 20,
     "metadata": {},
     "output_type": "execute_result"
    }
   ],
   "source": [
    "zero_dict = {\n",
    "    \"one_key\": 1,\n",
    "    \"one_dict\": {\n",
    "        \"two_key\": 2,\n",
    "        \"two_dict\": {\n",
    "            \"three_key\": 3\n",
    "        }\n",
    "    }\n",
    "}\n",
    "\n",
    "zero_dict[\"one_dict\"][\"two_dict\"][\"three_key\"]"
   ]
  },
  {
   "cell_type": "markdown",
   "metadata": {
    "id": "xOZP0hkx6cCr"
   },
   "source": [
    "# Вітаю! Ви велика(ий) молодець, що впоралась(вся). Похваліть себе та побалуйте чимось приємним. Я Вами пишаюся."
   ]
  }
 ],
 "metadata": {
  "colab": {
   "provenance": []
  },
  "kernelspec": {
   "display_name": "Python 3 (ipykernel)",
   "language": "python",
   "name": "python3"
  },
  "language_info": {
   "codemirror_mode": {
    "name": "ipython",
    "version": 3
   },
   "file_extension": ".py",
   "mimetype": "text/x-python",
   "name": "python",
   "nbconvert_exporter": "python",
   "pygments_lexer": "ipython3",
   "version": "3.9.12"
  }
 },
 "nbformat": 4,
 "nbformat_minor": 1
}
