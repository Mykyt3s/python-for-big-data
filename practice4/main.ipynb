{
 "cells": [
  {
   "cell_type": "markdown",
   "metadata": {
    "id": "kXpppdVm6wFy"
   },
   "source": [
    "# I. Functions. Arguments."
   ]
  },
  {
   "cell_type": "markdown",
   "metadata": {
    "id": "u_krJdlbAkVz"
   },
   "source": [
    "1. (5б) Назвіть основні 4 смислові  частини, з яких складається функція."
   ]
  },
  {
   "cell_type": "markdown",
   "metadata": {
    "id": "KKTrTXmHAptb"
   },
   "source": [
    "1. Імя функції  \n",
    "2. Аргументи функції\n",
    "3. Тіло функції\n",
    "4. Повернене значення функції"
   ]
  },
  {
   "cell_type": "markdown",
   "metadata": {
    "id": "ORM4PqJQAtDM"
   },
   "source": [
    "2. (3б) Визначте функцію, що приймає 2 аргументи та повертає результат ділення 1го аргумента на інший."
   ]
  },
  {
   "cell_type": "code",
   "execution_count": 21,
   "metadata": {
    "id": "EuDx-z8M6sLo",
    "ExecuteTime": {
     "end_time": "2024-03-03T19:30:59.251534800Z",
     "start_time": "2024-03-03T19:30:59.204142Z"
    }
   },
   "outputs": [
    {
     "data": {
      "text/plain": "1.5"
     },
     "execution_count": 21,
     "metadata": {},
     "output_type": "execute_result"
    }
   ],
   "source": [
    "def div_func(x, y):\n",
    "    return x / y\n",
    "\n",
    "a = 12\n",
    "b = 8\n",
    "div_func(a, b)"
   ]
  },
  {
   "cell_type": "markdown",
   "metadata": {
    "id": "5joQGQ-SAyMe"
   },
   "source": [
    "3. (2б) Викличте вище визначену функцію, де другий аргумент дорівнює 0."
   ]
  },
  {
   "cell_type": "code",
   "execution_count": 22,
   "metadata": {
    "id": "V5cBV1LOA3d-",
    "ExecuteTime": {
     "end_time": "2024-03-03T19:30:59.251534800Z",
     "start_time": "2024-03-03T19:30:59.208619900Z"
    }
   },
   "outputs": [
    {
     "name": "stdout",
     "output_type": "stream",
     "text": [
      "division by zero\n"
     ]
    }
   ],
   "source": [
    "try:\n",
    "    div_func(15, 0)\n",
    "except ZeroDivisionError as err:\n",
    "    print(err)"
   ]
  },
  {
   "cell_type": "markdown",
   "metadata": {
    "id": "QyimWgW8A43-"
   },
   "source": [
    "4. (4б) Перевизначте функцію так, щоби у випадку ділення на 0 функція повертала None, а в решті випадків - результат розрахунків."
   ]
  },
  {
   "cell_type": "code",
   "execution_count": 23,
   "metadata": {
    "id": "7VIODtSjA8Ek",
    "ExecuteTime": {
     "end_time": "2024-03-03T19:30:59.298418800Z",
     "start_time": "2024-03-03T19:30:59.227123Z"
    }
   },
   "outputs": [
    {
     "name": "stdout",
     "output_type": "stream",
     "text": [
      "None\n",
      "7.5\n"
     ]
    }
   ],
   "source": [
    "def div_func(x, y):\n",
    "    if y == 0:\n",
    "        return None\n",
    "    return x / y\n",
    "print(div_func(15, 0))\n",
    "print(div_func(15, 2))"
   ]
  },
  {
   "cell_type": "markdown",
   "metadata": {
    "id": "Y8mN0GfkA81l"
   },
   "source": [
    "5. (5б) Визначте функцію, що віднімає одне число від іншого (підказка: це буде 2 аргументи функції). При чому, якщо не визначити, скільки саме має бути віднято від числа, за замовчуванням має відніматися 1. Викличте функцію, передаючи тільки один аргумент."
   ]
  },
  {
   "cell_type": "code",
   "execution_count": 24,
   "metadata": {
    "id": "vg1kxkdgBA50",
    "ExecuteTime": {
     "end_time": "2024-03-03T19:30:59.298418800Z",
     "start_time": "2024-03-03T19:30:59.230929800Z"
    }
   },
   "outputs": [
    {
     "name": "stdout",
     "output_type": "stream",
     "text": [
      "1\n",
      "2\n"
     ]
    }
   ],
   "source": [
    "def sub_func(x, y=1):\n",
    "    return x - y\n",
    "\n",
    "print(sub_func(3, 2))\n",
    "print(sub_func(3))"
   ]
  },
  {
   "cell_type": "markdown",
   "metadata": {
    "id": "D3mwQGNOBBs4"
   },
   "source": [
    "6. (7б) Визначте функцію, яка приймає iterable (ітерабельний обʼєкт, напр. список), що складається з 7ми рядкових значень - назв погодних умов (напр. \"sunny\") за кожен день у тижні. Повертає функція словник, де ключами є рядки з погодними умовами, а значеннями - кількість разів, скільки дана погода була протягом тижня (напр. {'sunny': 1, ...}). Викличте цю функцію та виведіть результат її роботи на екран."
   ]
  },
  {
   "cell_type": "code",
   "execution_count": 25,
   "metadata": {
    "id": "OsWm-hKcBFyn",
    "ExecuteTime": {
     "end_time": "2024-03-03T19:30:59.298418800Z",
     "start_time": "2024-03-03T19:30:59.235787Z"
    }
   },
   "outputs": [
    {
     "data": {
      "text/plain": "defaultdict(int, {'rainy': 2, 'cloudy': 4, 'sunny': 1})"
     },
     "execution_count": 25,
     "metadata": {},
     "output_type": "execute_result"
    }
   ],
   "source": [
    "from collections import defaultdict\n",
    "\n",
    "def weather_during_week(lst: list):\n",
    "    cnt = defaultdict(int)\n",
    "    for weather in lst:\n",
    "        cnt[weather] += 1\n",
    "    return cnt\n",
    "\n",
    "weather_lst = [\"rainy\", \"cloudy\", \"rainy\", \"sunny\", \"cloudy\", \"cloudy\", \"cloudy\"]\n",
    "weather_during_week(weather_lst)"
   ]
  },
  {
   "cell_type": "markdown",
   "metadata": {
    "id": "RMiCcdOsBKQT"
   },
   "source": [
    "7. (15б) Напишіть програму, яка б шукала необхідне число у впорядкованому списку цілочислених значень, де\n",
    "число має вводитись з консолі.\n",
    "власне алгоритм пошуку винесений в окрему функцію, яка повертає булеве значення (знайдено число - True, не знайдено - False).\n",
    "в залежності від результату функції, виведіть на екран повідомлення про успішний або ж неуспішний пошук.\n",
    "Зауваження: використовувати оператор in заборонено."
   ]
  },
  {
   "cell_type": "code",
   "execution_count": 26,
   "metadata": {
    "id": "UNCZg65OBOy-",
    "ExecuteTime": {
     "end_time": "2024-03-03T19:31:02.545991100Z",
     "start_time": "2024-03-03T19:30:59.239512300Z"
    }
   },
   "outputs": [
    {
     "name": "stdout",
     "output_type": "stream",
     "text": [
      "There is no such number in the list\n"
     ]
    }
   ],
   "source": [
    "def find_num(lst: list, num):\n",
    "    l, r = 0, len(lst) - 1\n",
    "    while l < r:\n",
    "        m = (l + r) // 2\n",
    "        if lst[m] < num:\n",
    "            l = m + 1\n",
    "        else:\n",
    "            r = m\n",
    "    return lst[l] == num\n",
    "            \n",
    "\n",
    "def main(lst):\n",
    "    num = None\n",
    "    while not num:\n",
    "        try:\n",
    "            num = int(input(\"Enter the number\"))\n",
    "        except:\n",
    "            print(\"you should input integer\")\n",
    "    if find_num(lst, num):\n",
    "        print(\"There is such number in the list\")\n",
    "    else:\n",
    "        print(\"There is no such number in the list\")\n",
    "\n",
    "test_list = list(range(3, 34, 4))\n",
    "main(test_list)"
   ]
  },
  {
   "cell_type": "markdown",
   "metadata": {
    "id": "Ae1n_OvLBTsy"
   },
   "source": [
    "# II. Lambda functions."
   ]
  },
  {
   "cell_type": "markdown",
   "metadata": {
    "id": "xaD_wSlaCWen"
   },
   "source": [
    "8. (4б) В яких випадках варто використовувати лямбда-функції?"
   ]
  },
  {
   "cell_type": "markdown",
   "metadata": {
    "id": "42MB6OoLCakR"
   },
   "source": [
    "**У випадках, коли нам потрібно створити або передати просту функцію**"
   ]
  },
  {
   "cell_type": "markdown",
   "metadata": {
    "id": "USrzrk7GCedk"
   },
   "source": [
    "9. (9б) Визначте список з рядками. Після цього визначте анонімну функцію для отримання першого символу у верхньому регістрі для кожного рядка списку.\n",
    "Підказка: використовуйте анонімну функцію в якості агрумента до вбудованої ф-ції, яка створена для застосування функцій над iterable обʼєктами. Результат виведіть на екран у вигляді кортежу."
   ]
  },
  {
   "cell_type": "code",
   "execution_count": 27,
   "metadata": {
    "id": "M8QWUsMlCjWH",
    "ExecuteTime": {
     "end_time": "2024-03-03T19:31:02.545991100Z",
     "start_time": "2024-03-03T19:31:02.468285400Z"
    }
   },
   "outputs": [
    {
     "name": "stdout",
     "output_type": "stream",
     "text": [
      "['I', 'L', 'K', 'A']\n"
     ]
    }
   ],
   "source": [
    "lst_obj = [\"i\", \"love\", \"kyiv\", \"academy\"]\n",
    "map_obj = map(lambda x: x[0].upper(), lst_obj)\n",
    "print(list(map_obj))"
   ]
  },
  {
   "cell_type": "markdown",
   "metadata": {
    "id": "9fyUhXOoCtGp"
   },
   "source": [
    "10. (10б) Визначте список з числовими значеннями (і цілими, і з рухомою комою). а) Відфільтруйте всі числа, які діляться націло на 3 за допомогою вбудованої функції та анонімної функції в якості аргумента). Збережіть результат у змінній, не приводяти явно до будь-якого типу. б) Використовуючи результат на кроці 12.а у якості аргументу, та за допомогою лямбда-функції в якості іншого аргументу до вбудованої функції, додайте до кожного елементу число 1 та опісля зведіть у квадрат. Остаточний результат приведіть явно до списку та виведіть на екран."
   ]
  },
  {
   "cell_type": "code",
   "execution_count": 28,
   "metadata": {
    "id": "exEx2_okCsql",
    "ExecuteTime": {
     "end_time": "2024-03-03T19:31:02.545991100Z",
     "start_time": "2024-03-03T19:31:02.472419500Z"
    }
   },
   "outputs": [
    {
     "name": "stdout",
     "output_type": "stream",
     "text": [
      "[16, 49, 100]\n"
     ]
    }
   ],
   "source": [
    "lst_obj = [1, 2, 3, 4.5, 6, 7, 9, 12.1]\n",
    "\n",
    "filter_obj = filter(lambda x: x % 3 == 0, lst_obj)\n",
    "map_obj = map(lambda x: (x + 1) ** 2, filter_obj)\n",
    "print(list(map_obj))"
   ]
  },
  {
   "cell_type": "markdown",
   "metadata": {
    "id": "o_x8cG_WC7jp"
   },
   "source": [
    "# III. Decorators."
   ]
  },
  {
   "cell_type": "markdown",
   "metadata": {
    "id": "mhxS4-mfC8LQ"
   },
   "source": [
    "11. (11б) Визначте декоратор, який би виводив у консоль повідомлення про початок роботи і назву функції (напр. my_function._ _ name _ _), а після відпрацювання функції - повідомлення про закінчення роботи і назву функції, що задекорована."
   ]
  },
  {
   "cell_type": "code",
   "execution_count": 29,
   "metadata": {
    "id": "srd1ygWjDGhO",
    "ExecuteTime": {
     "end_time": "2024-03-03T19:31:02.545991100Z",
     "start_time": "2024-03-03T19:31:02.511145Z"
    }
   },
   "outputs": [],
   "source": [
    "def decorator(func):\n",
    "    def wrapper(*args, **kwargs):\n",
    "        print(\"The start of the function: {}\".format(func.__name__))\n",
    "        res = func(*args, **kwargs)\n",
    "        print(\"The end of the function: {}\".format(func.__name__))\n",
    "        return res\n",
    "    return wrapper"
   ]
  },
  {
   "cell_type": "markdown",
   "metadata": {
    "id": "rxGZwVBiDph3"
   },
   "source": [
    "12. (4б) Задекоруйте двома різними способами функції з завдання 4 та 5 декоратором із завдання 11. (**УВАГА**: не декоруйте функції двічі!)."
   ]
  },
  {
   "cell_type": "code",
   "execution_count": 30,
   "metadata": {
    "id": "06lj7eq_DwZe",
    "ExecuteTime": {
     "end_time": "2024-03-03T19:31:02.545991100Z",
     "start_time": "2024-03-03T19:31:02.517554100Z"
    }
   },
   "outputs": [],
   "source": [
    "@decorator\n",
    "def div_func(x, y):\n",
    "    if y == 0:\n",
    "        return None\n",
    "    return x / y"
   ]
  },
  {
   "cell_type": "code",
   "execution_count": 31,
   "metadata": {
    "ExecuteTime": {
     "end_time": "2024-03-03T19:31:02.545991100Z",
     "start_time": "2024-03-03T19:31:02.518063800Z"
    }
   },
   "outputs": [],
   "source": [
    "div_func_dec = decorator(sub_func)"
   ]
  },
  {
   "cell_type": "markdown",
   "metadata": {
    "id": "P0ep1urBDzf-"
   },
   "source": [
    "13. (2б) Викличте одну з задекорованих функцій і виведіть її результат на екран."
   ]
  },
  {
   "cell_type": "code",
   "execution_count": 32,
   "metadata": {
    "ExecuteTime": {
     "end_time": "2024-03-03T19:31:02.545991100Z",
     "start_time": "2024-03-03T19:31:02.521625Z"
    }
   },
   "outputs": [
    {
     "name": "stdout",
     "output_type": "stream",
     "text": [
      "The start of the function: div_func\n",
      "The end of the function: div_func\n"
     ]
    },
    {
     "data": {
      "text/plain": "2.0"
     },
     "execution_count": 32,
     "metadata": {},
     "output_type": "execute_result"
    }
   ],
   "source": [
    "div_func(2,1)"
   ]
  },
  {
   "cell_type": "code",
   "execution_count": 33,
   "metadata": {
    "id": "1QvTw0ctD0S3",
    "ExecuteTime": {
     "end_time": "2024-03-03T19:31:02.545991100Z",
     "start_time": "2024-03-03T19:31:02.526823600Z"
    }
   },
   "outputs": [
    {
     "name": "stdout",
     "output_type": "stream",
     "text": [
      "The start of the function: sub_func\n",
      "The end of the function: sub_func\n"
     ]
    },
    {
     "data": {
      "text/plain": "13"
     },
     "execution_count": 33,
     "metadata": {},
     "output_type": "execute_result"
    }
   ],
   "source": [
    "div_func_dec(34, 21)"
   ]
  },
  {
   "cell_type": "markdown",
   "metadata": {
    "id": "poECCpuoD2S9"
   },
   "source": [
    "# IV. Recursion."
   ]
  },
  {
   "cell_type": "markdown",
   "metadata": {
    "id": "DqkURfdsD7MY"
   },
   "source": [
    "14. (4б) Назвіть дві частини функції, які є обовʼязковими для того, щоб називати її рекурсивною."
   ]
  },
  {
   "cell_type": "markdown",
   "metadata": {
    "id": "HYW6ttIeIQIU"
   },
   "source": [
    "1. **Функція повинна викликати сама себе**\n",
    "2. **Повинен бути базовий випадок, при якому функція не викличе сама себе, щоб не було нескінченної рекурсії**"
   ]
  },
  {
   "cell_type": "markdown",
   "metadata": {
    "id": "WYVt20UmEA35"
   },
   "source": [
    "15. (15б) Визначте функцію, яка рекурсивно реалізовує пошук числа у послідовності Фібоначчі за її індексом (нумерація починається з нуля). Наприклад, потрібно знайти перше число у послідовності, тоді функція прийматиме 0 у якості аргумента і повертатиме 1, якщо ж знаходити третє число (індекс 2) послідовності, то функція повертатиме 2, якщо ж знаходити десяте число (індекс 9), то функція повертатиме 55."
   ]
  },
  {
   "cell_type": "code",
   "execution_count": 34,
   "metadata": {
    "id": "xIMhp05AIpV_",
    "ExecuteTime": {
     "end_time": "2024-03-03T19:31:02.545991100Z",
     "start_time": "2024-03-03T19:31:02.534597400Z"
    }
   },
   "outputs": [
    {
     "name": "stdout",
     "output_type": "stream",
     "text": [
      "1\n",
      "2\n",
      "55\n"
     ]
    }
   ],
   "source": [
    "def fibonacci(pos):\n",
    "    if pos == 0:\n",
    "        return 1\n",
    "    elif pos == 1:\n",
    "        return 1\n",
    "    else:\n",
    "        return fibonacci(pos - 1) + fibonacci(pos - 2)\n",
    "    \n",
    "print(fibonacci(0))\n",
    "print(fibonacci(2))\n",
    "print(fibonacci(9))"
   ]
  },
  {
   "cell_type": "markdown",
   "metadata": {
    "id": "ytXC8n_4Ip0W"
   },
   "source": [
    "# Вітаю! Ви велика(ий) молодець, що впоралась(вся). Похваліть себе та побалуйте чимось приємним. Я Вами пишаюся."
   ]
  },
  {
   "cell_type": "code",
   "execution_count": 34,
   "outputs": [],
   "source": [],
   "metadata": {
    "collapsed": false,
    "ExecuteTime": {
     "end_time": "2024-03-03T19:31:02.545991100Z",
     "start_time": "2024-03-03T19:31:02.537473800Z"
    }
   }
  }
 ],
 "metadata": {
  "colab": {
   "provenance": []
  },
  "kernelspec": {
   "display_name": "Python 3 (ipykernel)",
   "language": "python",
   "name": "python3"
  },
  "language_info": {
   "codemirror_mode": {
    "name": "ipython",
    "version": 3
   },
   "file_extension": ".py",
   "mimetype": "text/x-python",
   "name": "python",
   "nbconvert_exporter": "python",
   "pygments_lexer": "ipython3",
   "version": "3.9.12"
  }
 },
 "nbformat": 4,
 "nbformat_minor": 1
}
