{
  "cells": [
    {
      "cell_type": "markdown",
      "metadata": {
        "id": "5qV_sehzFCTp"
      },
      "source": [
        "# I. OOP"
      ]
    },
    {
      "cell_type": "markdown",
      "metadata": {
        "id": "tx_U_hOALyfg"
      },
      "source": [
        "1. (6б). Створіть клас Animal, додайте три атрибути, один з яких має значення за замовчуванням та два методи на свій розсуд."
      ]
    },
    {
      "cell_type": "code",
      "execution_count": 2,
      "metadata": {
        "id": "-Vf895KaL88N"
      },
      "outputs": [],
      "source": [
        "class Animal:\n",
        "    def __init__(self, species, color, name=\"bob\"):\n",
        "        self.species = species\n",
        "        self.color = color\n",
        "        self.name = name\n",
        "\n",
        "    def rename(self, new_name):\n",
        "        self.name = new_name\n",
        "\n",
        "    def get_info(self):\n",
        "        return \"The {} animal whose name is {}\".format(self.species, self.name)"
      ]
    },
    {
      "cell_type": "markdown",
      "metadata": {
        "id": "X_UlOMB0L93w"
      },
      "source": [
        "2. (2б). Створіть два обʼєкти цього класу, де один з обʼєктів створюється із дефолтним значенням атрибуту. На одному обʼєкті отримайте значення його атрибуту, а на іншому викличте один з його методів."
      ]
    },
    {
      "cell_type": "code",
      "execution_count": 3,
      "metadata": {
        "id": "7gBu0ESOMCpG",
        "colab": {
          "base_uri": "https://localhost:8080/",
          "height": 53
        },
        "outputId": "f943b9c8-9148-4760-8819-cc75b77ce091"
      },
      "outputs": [
        {
          "output_type": "stream",
          "name": "stdout",
          "text": [
            "monkey\n"
          ]
        },
        {
          "output_type": "execute_result",
          "data": {
            "text/plain": [
              "'The dolphin animal whose name is Alice'"
            ],
            "application/vnd.google.colaboratory.intrinsic+json": {
              "type": "string"
            }
          },
          "metadata": {},
          "execution_count": 3
        }
      ],
      "source": [
        "monkey = Animal(\"monkey\", \"red\")\n",
        "dolphin = Animal(\"dolphin\", \"blue\", \"Alice\")\n",
        "print(monkey.species)\n",
        "dolphin.get_info()"
      ]
    },
    {
      "cell_type": "markdown",
      "metadata": {
        "id": "HoqSCZt1MHn5"
      },
      "source": [
        "3. (5б). Створіть клас, де атрибути мають різні рівні доступу. Спробуйте отримати їхні значення та опишіть результати."
      ]
    },
    {
      "cell_type": "code",
      "execution_count": 5,
      "metadata": {
        "id": "r9b3vJxBMSPV",
        "colab": {
          "base_uri": "https://localhost:8080/"
        },
        "outputId": "cbb507d8-c0f5-4167-f04d-2c2636fc17ae"
      },
      "outputs": [
        {
          "output_type": "stream",
          "name": "stdout",
          "text": [
            "public: level0\n",
            "protected: level1\n",
            "'Object' object has no attribute '__level2'\n"
          ]
        }
      ],
      "source": [
        "class Object:\n",
        "    def __init__(self, level0, level1, level2):\n",
        "        self.level0 = level0\n",
        "        self._level1 = level1\n",
        "        self.__level2 = level2\n",
        "\n",
        "obj = Object(\"level0\", \"level1\", \"level2\")\n",
        "print(\"public:\", obj.level0)\n",
        "print(\"protected:\", obj._level1)\n",
        "try:\n",
        "    print(\"private:\", obj.__level2)\n",
        "except Exception as err:\n",
        "    print(err)\n"
      ]
    },
    {
      "cell_type": "markdown",
      "metadata": {
        "id": "dUR8a04gB9J_"
      },
      "source": [
        "**protected поля в python існують лише за домовленістю. до private поля в python напряму звертатиись не можна, але теж є спосіб**"
      ]
    },
    {
      "cell_type": "markdown",
      "metadata": {
        "id": "5op2m2vgMSkZ"
      },
      "source": [
        "4. (7б). Як ви розумієте термін self? Для чого використовується метод __init __?"
      ]
    },
    {
      "cell_type": "markdown",
      "metadata": {
        "id": "DyiPqNRvMasx"
      },
      "source": [
        " **__init __ це конструктор в python. Ця функція викликається пря створенні нового екземпляра класу**\n",
        "\n",
        " **self це посилання на самого себе, а точніше на конкретний екземпляр класу. Метод класу отримує, щоб зрозумітии з яким екземпляром класу працювати**"
      ]
    },
    {
      "cell_type": "markdown",
      "metadata": {
        "id": "-6X8EGfjMd2y"
      },
      "source": [
        "5. (9б). Створіть клас Фігура без атрибутів, з методом get_area для отримання площі фігури, що повертає 0 та __add __, який приймає self та other в якості аргументів, а повертає суму площин фігур self та other."
      ]
    },
    {
      "cell_type": "code",
      "execution_count": 6,
      "metadata": {
        "id": "4rvO_wYUMaEr"
      },
      "outputs": [],
      "source": [
        "class Shape:\n",
        "    def get_area(self):\n",
        "        return 0\n",
        "\n",
        "    def __add__(self, other):\n",
        "        return self.get_area() + other.get_area()"
      ]
    },
    {
      "cell_type": "markdown",
      "metadata": {
        "id": "SFcKnnv5Mo_z"
      },
      "source": [
        "6. (11б). Створіть 2 дочірніх класи від Фігури: Трикутник та Коло, які мають атрибути, необхідні для розрахунку площин. Визначте метод get_area в кожному з них так, щоби вони розраховували площу в залежності від формули для кожного типу фігури. Створіть обʼєкт класу Трикутник та обʼєкт класу Коло. Виконайте операцію суми за допомогою оператора + між ними."
      ]
    },
    {
      "cell_type": "code",
      "execution_count": 7,
      "metadata": {
        "id": "H3GVNr69Muf3"
      },
      "outputs": [],
      "source": [
        "import math\n",
        "\n",
        "class Triangle(Shape):\n",
        "    def __init__(self, width, altitude):\n",
        "        self.altitude = altitude\n",
        "        self.width = width\n",
        "\n",
        "    def get_area(self):\n",
        "        return self.altitude * self.width / 2.0\n",
        "\n",
        "class Circle(Shape):\n",
        "    def __init__(self, radius):\n",
        "        self.radius = radius\n",
        "\n",
        "    def get_area(self):\n",
        "        return math.pi * self.radius**2"
      ]
    },
    {
      "cell_type": "code",
      "execution_count": 9,
      "metadata": {
        "colab": {
          "base_uri": "https://localhost:8080/"
        },
        "id": "hwPDOOelB9KB",
        "outputId": "20bbeefb-5766-40f5-804f-7416d6ee7386"
      },
      "outputs": [
        {
          "output_type": "stream",
          "name": "stdout",
          "text": [
            "triangle with width 3 and altitude 4: 6.0\n",
            "circle with radius 1: 3.141592653589793\n",
            "the sum of areas: 9.141592653589793\n"
          ]
        }
      ],
      "source": [
        "triangle_exm = Triangle(3, 4)\n",
        "circle_exm = Circle(1)\n",
        "\n",
        "print(\"triangle with width 3 and altitude 4: {}\".format(triangle_exm.get_area()))\n",
        "print(\"circle with radius 1: {}\".format(circle_exm.get_area()))\n",
        "sum_area = circle_exm + triangle_exm\n",
        "print(\"the sum of areas: {}\".format(sum_area))"
      ]
    },
    {
      "cell_type": "markdown",
      "metadata": {
        "id": "HCvR206YMvLK"
      },
      "source": [
        "7. (3б). Продемонструйте різницю між isinstance та issubclass."
      ]
    },
    {
      "cell_type": "code",
      "execution_count": 14,
      "metadata": {
        "id": "L_V1bBvDM0GN",
        "colab": {
          "base_uri": "https://localhost:8080/"
        },
        "outputId": "2d87376c-1e58-4e46-d095-35ce51f10ed5"
      },
      "outputs": [
        {
          "output_type": "stream",
          "name": "stdout",
          "text": [
            "triangle_exm is triangle True\n",
            "circle_exm is triangle True\n",
            "triangle_exm is shape True\n",
            "triangle_exm is shape True\n"
          ]
        }
      ],
      "source": [
        "print(\"triangle_exm is triangle\", isinstance(triangle_exm, Triangle))\n",
        "print(\"circle_exm is triangle\", isinstance(circle_exm, Circle))\n",
        "print(\"triangle_exm is shape\", isinstance(triangle_exm, Shape))\n",
        "print(\"triangle_exm is shape\", isinstance(circle_exm, Shape))"
      ]
    },
    {
      "cell_type": "code",
      "execution_count": 16,
      "metadata": {
        "colab": {
          "base_uri": "https://localhost:8080/"
        },
        "id": "vJ2it8s2B9KB",
        "outputId": "926163a0-53f7-42c5-a5cc-b648d07f8c9c"
      },
      "outputs": [
        {
          "output_type": "stream",
          "name": "stdout",
          "text": [
            "Triangle is Shape True\n",
            "Circle is Shape True\n",
            "Shape is Triangle False\n",
            "Shape is Circle False\n"
          ]
        }
      ],
      "source": [
        "print(\"Triangle is Shape\", issubclass(Triangle, Shape))\n",
        "print(\"Circle is Shape\", issubclass(Circle, Shape))\n",
        "print(\"Shape is Triangle\", issubclass(Shape, Triangle))\n",
        "print(\"Shape is Circle\", issubclass(Shape, Circle))"
      ]
    },
    {
      "cell_type": "markdown",
      "metadata": {
        "id": "ZmU3wnnlB9KC"
      },
      "source": [
        "**Метод isinstance перевіряж чи належить певний обєкт (екземпляр якогось класу) до даного класу або котрогось із його субкласів**\n",
        "**Метод issubclass перевіряє чи є перший клас субкласом другого**"
      ]
    },
    {
      "cell_type": "markdown",
      "metadata": {
        "id": "jjsaBZ-iM0Qq"
      },
      "source": [
        "8. (13б). Створіть клас BankAccount з приватними атрибутами balance та account_number. Реалізуйте методи поповнення та зняття коштів, забезпечивши належну інкапсуляцію. Підказка: використовуйте декоратори property та setter."
      ]
    },
    {
      "cell_type": "code",
      "execution_count": 21,
      "metadata": {
        "id": "xCvZ7lh8M7YA"
      },
      "outputs": [],
      "source": [
        "class BankAccount:\n",
        "    def __init__(self, balance, account_number):\n",
        "        self.__balance = balance\n",
        "        self.__account_number = account_number\n",
        "\n",
        "    @property\n",
        "    def balance(self):\n",
        "        return self.__balance\n",
        "\n",
        "    @property\n",
        "    def account_number(self):\n",
        "        return self.__account_number\n",
        "\n",
        "    @balance.setter\n",
        "    def balance(self, new_balance):\n",
        "        self.__balance = new_balance\n",
        "\n",
        "    def deposit(self, amount):\n",
        "        self.balance += amount\n",
        "\n",
        "    def withdraw(self, amount):\n",
        "        self.balance -= amount\n",
        "        if self.balance < 0:\n",
        "            print(\"Warning! You are in credit limit!\")"
      ]
    },
    {
      "cell_type": "code",
      "execution_count": 22,
      "metadata": {
        "colab": {
          "base_uri": "https://localhost:8080/"
        },
        "id": "xfE-Xjc2B9KC",
        "outputId": "6eed7fd2-9128-4dfe-ea65-2e5ee1753e15"
      },
      "outputs": [
        {
          "output_type": "stream",
          "name": "stdout",
          "text": [
            "account number: 987345\n",
            "account balance: 1000\n",
            "account balance: 1100\n",
            "Warning! You are in credit limit!\n",
            "account balance: -400\n"
          ]
        }
      ],
      "source": [
        "my_account = BankAccount(1000,987345)\n",
        "print(\"account number: {}\".format(my_account.account_number))\n",
        "print(\"account balance: {}\".format(my_account.balance))\n",
        "my_account.deposit(100)\n",
        "print(\"account balance: {}\".format(my_account.balance))\n",
        "my_account.withdraw(1500)\n",
        "print(\"account balance: {}\".format(my_account.balance))"
      ]
    },
    {
      "cell_type": "markdown",
      "metadata": {
        "id": "tIzL2SJTM8ft"
      },
      "source": [
        "9. (11б). Створіть клас Library, який містить список об'єктів типу Book. Реалізуйте методи для додавання книги, видалення книги та відображення списку книг."
      ]
    },
    {
      "cell_type": "code",
      "execution_count": 40,
      "metadata": {
        "id": "HWxfJKLtNAUZ"
      },
      "outputs": [],
      "source": [
        "class Book:\n",
        "    def __init__(self, title, author, topic, desc):\n",
        "        self.title = title\n",
        "        self.author = author\n",
        "        self.topic = topic\n",
        "        self.desc = desc\n",
        "\n",
        "class Library:\n",
        "    def __init__(self):\n",
        "        self.books = []\n",
        "\n",
        "    def append_book(self, book):\n",
        "        self.books.append(book)\n",
        "\n",
        "    def remove_book(self, title):\n",
        "        for i, book in enumerate(self.books):\n",
        "            if book.title == title:\n",
        "                self.books.pop(i)\n",
        "                break\n",
        "        else:\n",
        "            print(f\"the book {title} is not in the library\")\n",
        "\n",
        "    def view_books(self):\n",
        "        print(\"The library has the following books:\")\n",
        "        for book in self.books:\n",
        "            print(f\"- '{book.title}' by {book.author} on {book.topic}, {book.desc}\")"
      ]
    },
    {
      "cell_type": "code",
      "execution_count": 41,
      "metadata": {
        "colab": {
          "base_uri": "https://localhost:8080/"
        },
        "id": "u5l4NAD5B9KD",
        "outputId": "8987230a-edb7-4b6f-a90d-be3abfae5153"
      },
      "outputs": [
        {
          "output_type": "stream",
          "name": "stdout",
          "text": [
            "The library has the following books:\n",
            "- 'book1' by author1 on topic1, desc1\n",
            "- 'book2' by author2 on topic2, desc2\n",
            "- 'book3' by author3 on topic3, desc3\n",
            "the book book4 is not in the library\n",
            "The library has the following books:\n",
            "- 'book2' by author2 on topic2, desc2\n",
            "- 'book3' by author3 on topic3, desc3\n"
          ]
        }
      ],
      "source": [
        "library = Library()\n",
        "\n",
        "book1 = Book(\"book1\", \"author1\", \"topic1\", \"desc1\")\n",
        "book2 = Book(\"book2\", \"author2\", \"topic2\", \"desc2\")\n",
        "book3 = Book(\"book3\", \"author3\", \"topic3\", \"desc3\")\n",
        "book4 = Book(\"book4\", \"author4\", \"topic4\", \"desc4\")\n",
        "library.append_book(book1)\n",
        "library.append_book(book2)\n",
        "library.append_book(book3)\n",
        "library.view_books()\n",
        "\n",
        "library.remove_book(\"book1\")\n",
        "library.remove_book(\"book4\")\n",
        "library.view_books()\n"
      ]
    },
    {
      "cell_type": "markdown",
      "metadata": {
        "id": "lmV8pAwwNIqu"
      },
      "source": [
        "10. (13б). Створіть клас Person з атрибутами name та age. Створіть ще один клас Employee з такими атрибутами, як department та salary. Створіть клас Manager, який успадковує обидва класи Person та Employee. Продемонструйте використання множинної спадковості, створивши обʼєкт класу Manager та отримавши mro для цього класу."
      ]
    },
    {
      "cell_type": "code",
      "execution_count": 42,
      "metadata": {
        "id": "R49grKlWNPeN"
      },
      "outputs": [],
      "source": [
        "class Person:\n",
        "    def __init__(self, name, age):\n",
        "        self.name = name\n",
        "        self.age = age\n",
        "\n",
        "class Employee:\n",
        "    def __init__(self, department, salary):\n",
        "        self.department = department\n",
        "        self.salary = salary\n",
        "\n",
        "class Manager(Person, Employee):\n",
        "    def __init__(self, name, age, department, salary):\n",
        "        Person.__init__(self, name, age)\n",
        "        Employee.__init__(self, department, salary)"
      ]
    },
    {
      "cell_type": "code",
      "execution_count": 43,
      "metadata": {
        "colab": {
          "base_uri": "https://localhost:8080/"
        },
        "id": "SZM90PUlB9KE",
        "outputId": "74df3298-e771-4ec5-e7d2-419f9ca06d7c"
      },
      "outputs": [
        {
          "output_type": "execute_result",
          "data": {
            "text/plain": [
              "(__main__.Manager, __main__.Person, __main__.Employee, object)"
            ]
          },
          "metadata": {},
          "execution_count": 43
        }
      ],
      "source": [
        "manager = Manager(\"mykyta\", 19, \"Evaluation\", 1200)\n",
        "Manager.__mro__"
      ]
    },
    {
      "cell_type": "markdown",
      "metadata": {
        "id": "dIJyUiNBFG8G"
      },
      "source": [
        "# II. Iterator"
      ]
    },
    {
      "cell_type": "markdown",
      "metadata": {
        "id": "13vsm0NyKIzL"
      },
      "source": [
        "11. (4б). Визначте рядок(str) з 4ма різними за значенням символами. Створіть ітератор на основі цього рядка. Викличте 5 разів функцію next на ітераторі, 4ри перших з них огорніть у ф-цію print()."
      ]
    },
    {
      "cell_type": "code",
      "execution_count": 44,
      "metadata": {
        "id": "81ntabAkKuz-",
        "colab": {
          "base_uri": "https://localhost:8080/"
        },
        "outputId": "78edb41c-bd3a-487b-b5be-7fbef3d07e11"
      },
      "outputs": [
        {
          "output_type": "stream",
          "name": "stdout",
          "text": [
            "q\n",
            "2\n",
            "h\n",
            "6\n",
            "StopIteration error\n"
          ]
        }
      ],
      "source": [
        "string = \"q2h6\"\n",
        "iterator = iter(string)\n",
        "for i in range(4):\n",
        "    print(next(iterator))\n",
        "try:\n",
        "    next(iterator)\n",
        "except StopIteration as err:\n",
        "    print(\"StopIteration error\")"
      ]
    },
    {
      "cell_type": "markdown",
      "metadata": {
        "id": "aekWHGXOLRsO"
      },
      "source": [
        "А що якщо викликати цю ж функцію на рядку?"
      ]
    },
    {
      "cell_type": "code",
      "execution_count": 46,
      "metadata": {
        "id": "mxATGsErLV1i",
        "colab": {
          "base_uri": "https://localhost:8080/"
        },
        "outputId": "f1e976e2-b94f-4717-d690-04d0a428bafc"
      },
      "outputs": [
        {
          "output_type": "stream",
          "name": "stdout",
          "text": [
            "'str' object is not an iterator\n"
          ]
        }
      ],
      "source": [
        "try:\n",
        "    print(next(\"some string\"))\n",
        "except TypeError as err:\n",
        "    print(err)"
      ]
    },
    {
      "cell_type": "markdown",
      "metadata": {
        "id": "XwtMEopwJ4pH"
      },
      "source": [
        " 12. (5б). Опишіть своїми словами в одному реченні, як ви розумієте різницю між ітерабельними обʼєктами та ітераторами (можна на прикладі)."
      ]
    },
    {
      "cell_type": "markdown",
      "metadata": {
        "id": "-sHrODc3KFn8"
      },
      "source": [
        "**Ітерабельний обєкт - це обєкт, який має зрозумілий та визначений порядок обходу своїх елементів. Ітератор - це обєкт, котрий дає інтерфейс обходу елементів. **"
      ]
    },
    {
      "cell_type": "markdown",
      "metadata": {
        "id": "E9qJWmNbK8Gl"
      },
      "source": [
        "13. (11б). Створіть клас, що має визначений Iterator Protocol та при кожному виклику next повертає літери англійської абетки, поки вони не вичерпаються."
      ]
    },
    {
      "cell_type": "code",
      "execution_count": 49,
      "metadata": {
        "id": "cqx-g_RsLo6I",
        "colab": {
          "base_uri": "https://localhost:8080/"
        },
        "outputId": "23843e51-fe1a-42a0-adda-fd6a38e97eff"
      },
      "outputs": [
        {
          "output_type": "stream",
          "name": "stdout",
          "text": [
            "a b c d e f g h i j k l m n o p q r s t u v w x y z "
          ]
        }
      ],
      "source": [
        "class CharIterator:\n",
        "    def __init__(self):\n",
        "        self.letter_pointer = ord('a')\n",
        "\n",
        "    def __iter__(self):\n",
        "        return self\n",
        "\n",
        "    def __next__(self):\n",
        "        if self.letter_pointer <= ord('z'):\n",
        "            current_letter = chr(self.letter_pointer)\n",
        "            self.letter_pointer += 1\n",
        "            return current_letter\n",
        "        else:\n",
        "            raise StopIteration\n",
        "\n",
        "iterator = CharIterator()\n",
        "for char in iterator:\n",
        "    print(char, end=' ')"
      ]
    },
    {
      "cell_type": "markdown",
      "metadata": {
        "id": "Z3E3S_s1Fv7-"
      },
      "source": [
        "# Вітаю! Ви велика(ий) молодець, що впоралась(вся). Похваліть себе та побалуйте чимось приємним. Я Вами пишаюся."
      ]
    },
    {
      "cell_type": "code",
      "source": [],
      "metadata": {
        "id": "TVe-w_m_O9N2"
      },
      "execution_count": null,
      "outputs": []
    }
  ],
  "metadata": {
    "colab": {
      "provenance": []
    },
    "kernelspec": {
      "display_name": "Python 3 (ipykernel)",
      "language": "python",
      "name": "python3"
    },
    "language_info": {
      "codemirror_mode": {
        "name": "ipython",
        "version": 3
      },
      "file_extension": ".py",
      "mimetype": "text/x-python",
      "name": "python",
      "nbconvert_exporter": "python",
      "pygments_lexer": "ipython3",
      "version": "3.9.12"
    }
  },
  "nbformat": 4,
  "nbformat_minor": 0
}